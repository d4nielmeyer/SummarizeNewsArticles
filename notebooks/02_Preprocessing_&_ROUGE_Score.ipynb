{
  "nbformat": 4,
  "nbformat_minor": 0,
  "metadata": {
    "kernelspec": {
      "name": "python3",
      "display_name": "Python 3",
      "language": "python"
    },
    "language_info": {
      "name": "python",
      "version": "3.7.6",
      "mimetype": "text/x-python",
      "codemirror_mode": {
        "name": "ipython",
        "version": 3
      },
      "pygments_lexer": "ipython3",
      "nbconvert_exporter": "python",
      "file_extension": ".py"
    },
    "colab": {
      "name": "02_Preprocessing & ROUGE Score.ipynb",
      "provenance": [],
      "collapsed_sections": []
    },
    "widgets": {
      "application/vnd.jupyter.widget-state+json": {
        "f2794aa9148145eebc3b7a7f38d7e6f2": {
          "model_module": "@jupyter-widgets/controls",
          "model_name": "HBoxModel",
          "model_module_version": "1.5.0",
          "state": {
            "_view_name": "HBoxView",
            "_dom_classes": [],
            "_model_name": "HBoxModel",
            "_view_module": "@jupyter-widgets/controls",
            "_model_module_version": "1.5.0",
            "_view_count": null,
            "_view_module_version": "1.5.0",
            "box_style": "",
            "layout": "IPY_MODEL_313733a223564d10aecb012c38775aee",
            "_model_module": "@jupyter-widgets/controls",
            "children": [
              "IPY_MODEL_163724c758014d40a55daecbbf51972b",
              "IPY_MODEL_02d0cc8d1ee946a29e89530c9ff947ac",
              "IPY_MODEL_9a75a4bbce584ae58c49d70c32398cbb"
            ]
          }
        },
        "313733a223564d10aecb012c38775aee": {
          "model_module": "@jupyter-widgets/base",
          "model_name": "LayoutModel",
          "model_module_version": "1.2.0",
          "state": {
            "_view_name": "LayoutView",
            "grid_template_rows": null,
            "right": null,
            "justify_content": null,
            "_view_module": "@jupyter-widgets/base",
            "overflow": null,
            "_model_module_version": "1.2.0",
            "_view_count": null,
            "flex_flow": null,
            "width": null,
            "min_width": null,
            "border": null,
            "align_items": null,
            "bottom": null,
            "_model_module": "@jupyter-widgets/base",
            "top": null,
            "grid_column": null,
            "overflow_y": null,
            "overflow_x": null,
            "grid_auto_flow": null,
            "grid_area": null,
            "grid_template_columns": null,
            "flex": null,
            "_model_name": "LayoutModel",
            "justify_items": null,
            "grid_row": null,
            "max_height": null,
            "align_content": null,
            "visibility": null,
            "align_self": null,
            "height": null,
            "min_height": null,
            "padding": null,
            "grid_auto_rows": null,
            "grid_gap": null,
            "max_width": null,
            "order": null,
            "_view_module_version": "1.2.0",
            "grid_template_areas": null,
            "object_position": null,
            "object_fit": null,
            "grid_auto_columns": null,
            "margin": null,
            "display": null,
            "left": null
          }
        },
        "163724c758014d40a55daecbbf51972b": {
          "model_module": "@jupyter-widgets/controls",
          "model_name": "HTMLModel",
          "model_module_version": "1.5.0",
          "state": {
            "_view_name": "HTMLView",
            "style": "IPY_MODEL_5ae69ca5f7fa45ec88961e4816e6dc99",
            "_dom_classes": [],
            "description": "",
            "_model_name": "HTMLModel",
            "placeholder": "​",
            "_view_module": "@jupyter-widgets/controls",
            "_model_module_version": "1.5.0",
            "value": "100%",
            "_view_count": null,
            "_view_module_version": "1.5.0",
            "description_tooltip": null,
            "_model_module": "@jupyter-widgets/controls",
            "layout": "IPY_MODEL_76306a6ddc76497b9bba00b98b020f9a"
          }
        },
        "02d0cc8d1ee946a29e89530c9ff947ac": {
          "model_module": "@jupyter-widgets/controls",
          "model_name": "FloatProgressModel",
          "model_module_version": "1.5.0",
          "state": {
            "_view_name": "ProgressView",
            "style": "IPY_MODEL_4f1b467df2b14ea0ade076a77fc67094",
            "_dom_classes": [],
            "description": "",
            "_model_name": "FloatProgressModel",
            "bar_style": "success",
            "max": 91889,
            "_view_module": "@jupyter-widgets/controls",
            "_model_module_version": "1.5.0",
            "value": 91889,
            "_view_count": null,
            "_view_module_version": "1.5.0",
            "orientation": "horizontal",
            "min": 0,
            "description_tooltip": null,
            "_model_module": "@jupyter-widgets/controls",
            "layout": "IPY_MODEL_e72eb9d610c94c81972e87f6ff46cae4"
          }
        },
        "9a75a4bbce584ae58c49d70c32398cbb": {
          "model_module": "@jupyter-widgets/controls",
          "model_name": "HTMLModel",
          "model_module_version": "1.5.0",
          "state": {
            "_view_name": "HTMLView",
            "style": "IPY_MODEL_5fc1fd0366714644b695872395a8e138",
            "_dom_classes": [],
            "description": "",
            "_model_name": "HTMLModel",
            "placeholder": "​",
            "_view_module": "@jupyter-widgets/controls",
            "_model_module_version": "1.5.0",
            "value": " 91889/91889 [01:16&lt;00:00, 1163.14it/s]",
            "_view_count": null,
            "_view_module_version": "1.5.0",
            "description_tooltip": null,
            "_model_module": "@jupyter-widgets/controls",
            "layout": "IPY_MODEL_0b595888dcb747c3aaeb2d5bfc3985a9"
          }
        },
        "5ae69ca5f7fa45ec88961e4816e6dc99": {
          "model_module": "@jupyter-widgets/controls",
          "model_name": "DescriptionStyleModel",
          "model_module_version": "1.5.0",
          "state": {
            "_view_name": "StyleView",
            "_model_name": "DescriptionStyleModel",
            "description_width": "",
            "_view_module": "@jupyter-widgets/base",
            "_model_module_version": "1.5.0",
            "_view_count": null,
            "_view_module_version": "1.2.0",
            "_model_module": "@jupyter-widgets/controls"
          }
        },
        "76306a6ddc76497b9bba00b98b020f9a": {
          "model_module": "@jupyter-widgets/base",
          "model_name": "LayoutModel",
          "model_module_version": "1.2.0",
          "state": {
            "_view_name": "LayoutView",
            "grid_template_rows": null,
            "right": null,
            "justify_content": null,
            "_view_module": "@jupyter-widgets/base",
            "overflow": null,
            "_model_module_version": "1.2.0",
            "_view_count": null,
            "flex_flow": null,
            "width": null,
            "min_width": null,
            "border": null,
            "align_items": null,
            "bottom": null,
            "_model_module": "@jupyter-widgets/base",
            "top": null,
            "grid_column": null,
            "overflow_y": null,
            "overflow_x": null,
            "grid_auto_flow": null,
            "grid_area": null,
            "grid_template_columns": null,
            "flex": null,
            "_model_name": "LayoutModel",
            "justify_items": null,
            "grid_row": null,
            "max_height": null,
            "align_content": null,
            "visibility": null,
            "align_self": null,
            "height": null,
            "min_height": null,
            "padding": null,
            "grid_auto_rows": null,
            "grid_gap": null,
            "max_width": null,
            "order": null,
            "_view_module_version": "1.2.0",
            "grid_template_areas": null,
            "object_position": null,
            "object_fit": null,
            "grid_auto_columns": null,
            "margin": null,
            "display": null,
            "left": null
          }
        },
        "4f1b467df2b14ea0ade076a77fc67094": {
          "model_module": "@jupyter-widgets/controls",
          "model_name": "ProgressStyleModel",
          "model_module_version": "1.5.0",
          "state": {
            "_view_name": "StyleView",
            "_model_name": "ProgressStyleModel",
            "description_width": "",
            "_view_module": "@jupyter-widgets/base",
            "_model_module_version": "1.5.0",
            "_view_count": null,
            "_view_module_version": "1.2.0",
            "bar_color": null,
            "_model_module": "@jupyter-widgets/controls"
          }
        },
        "e72eb9d610c94c81972e87f6ff46cae4": {
          "model_module": "@jupyter-widgets/base",
          "model_name": "LayoutModel",
          "model_module_version": "1.2.0",
          "state": {
            "_view_name": "LayoutView",
            "grid_template_rows": null,
            "right": null,
            "justify_content": null,
            "_view_module": "@jupyter-widgets/base",
            "overflow": null,
            "_model_module_version": "1.2.0",
            "_view_count": null,
            "flex_flow": null,
            "width": null,
            "min_width": null,
            "border": null,
            "align_items": null,
            "bottom": null,
            "_model_module": "@jupyter-widgets/base",
            "top": null,
            "grid_column": null,
            "overflow_y": null,
            "overflow_x": null,
            "grid_auto_flow": null,
            "grid_area": null,
            "grid_template_columns": null,
            "flex": null,
            "_model_name": "LayoutModel",
            "justify_items": null,
            "grid_row": null,
            "max_height": null,
            "align_content": null,
            "visibility": null,
            "align_self": null,
            "height": null,
            "min_height": null,
            "padding": null,
            "grid_auto_rows": null,
            "grid_gap": null,
            "max_width": null,
            "order": null,
            "_view_module_version": "1.2.0",
            "grid_template_areas": null,
            "object_position": null,
            "object_fit": null,
            "grid_auto_columns": null,
            "margin": null,
            "display": null,
            "left": null
          }
        },
        "5fc1fd0366714644b695872395a8e138": {
          "model_module": "@jupyter-widgets/controls",
          "model_name": "DescriptionStyleModel",
          "model_module_version": "1.5.0",
          "state": {
            "_view_name": "StyleView",
            "_model_name": "DescriptionStyleModel",
            "description_width": "",
            "_view_module": "@jupyter-widgets/base",
            "_model_module_version": "1.5.0",
            "_view_count": null,
            "_view_module_version": "1.2.0",
            "_model_module": "@jupyter-widgets/controls"
          }
        },
        "0b595888dcb747c3aaeb2d5bfc3985a9": {
          "model_module": "@jupyter-widgets/base",
          "model_name": "LayoutModel",
          "model_module_version": "1.2.0",
          "state": {
            "_view_name": "LayoutView",
            "grid_template_rows": null,
            "right": null,
            "justify_content": null,
            "_view_module": "@jupyter-widgets/base",
            "overflow": null,
            "_model_module_version": "1.2.0",
            "_view_count": null,
            "flex_flow": null,
            "width": null,
            "min_width": null,
            "border": null,
            "align_items": null,
            "bottom": null,
            "_model_module": "@jupyter-widgets/base",
            "top": null,
            "grid_column": null,
            "overflow_y": null,
            "overflow_x": null,
            "grid_auto_flow": null,
            "grid_area": null,
            "grid_template_columns": null,
            "flex": null,
            "_model_name": "LayoutModel",
            "justify_items": null,
            "grid_row": null,
            "max_height": null,
            "align_content": null,
            "visibility": null,
            "align_self": null,
            "height": null,
            "min_height": null,
            "padding": null,
            "grid_auto_rows": null,
            "grid_gap": null,
            "max_width": null,
            "order": null,
            "_view_module_version": "1.2.0",
            "grid_template_areas": null,
            "object_position": null,
            "object_fit": null,
            "grid_auto_columns": null,
            "margin": null,
            "display": null,
            "left": null
          }
        },
        "cdf796ef4dea4431be36cfbb147a609c": {
          "model_module": "@jupyter-widgets/controls",
          "model_name": "HBoxModel",
          "model_module_version": "1.5.0",
          "state": {
            "_view_name": "HBoxView",
            "_dom_classes": [],
            "_model_name": "HBoxModel",
            "_view_module": "@jupyter-widgets/controls",
            "_model_module_version": "1.5.0",
            "_view_count": null,
            "_view_module_version": "1.5.0",
            "box_style": "",
            "layout": "IPY_MODEL_16d7e6715de24fc3841fefb6e2acb3a2",
            "_model_module": "@jupyter-widgets/controls",
            "children": [
              "IPY_MODEL_181882a4ef784839854c93bc3a1cc813",
              "IPY_MODEL_05c28cefb38d4df7996ca2df33612935",
              "IPY_MODEL_faad0027ca6d4dbb983c7ad4fc0a41c3"
            ]
          }
        },
        "16d7e6715de24fc3841fefb6e2acb3a2": {
          "model_module": "@jupyter-widgets/base",
          "model_name": "LayoutModel",
          "model_module_version": "1.2.0",
          "state": {
            "_view_name": "LayoutView",
            "grid_template_rows": null,
            "right": null,
            "justify_content": null,
            "_view_module": "@jupyter-widgets/base",
            "overflow": null,
            "_model_module_version": "1.2.0",
            "_view_count": null,
            "flex_flow": null,
            "width": null,
            "min_width": null,
            "border": null,
            "align_items": null,
            "bottom": null,
            "_model_module": "@jupyter-widgets/base",
            "top": null,
            "grid_column": null,
            "overflow_y": null,
            "overflow_x": null,
            "grid_auto_flow": null,
            "grid_area": null,
            "grid_template_columns": null,
            "flex": null,
            "_model_name": "LayoutModel",
            "justify_items": null,
            "grid_row": null,
            "max_height": null,
            "align_content": null,
            "visibility": null,
            "align_self": null,
            "height": null,
            "min_height": null,
            "padding": null,
            "grid_auto_rows": null,
            "grid_gap": null,
            "max_width": null,
            "order": null,
            "_view_module_version": "1.2.0",
            "grid_template_areas": null,
            "object_position": null,
            "object_fit": null,
            "grid_auto_columns": null,
            "margin": null,
            "display": null,
            "left": null
          }
        },
        "181882a4ef784839854c93bc3a1cc813": {
          "model_module": "@jupyter-widgets/controls",
          "model_name": "HTMLModel",
          "model_module_version": "1.5.0",
          "state": {
            "_view_name": "HTMLView",
            "style": "IPY_MODEL_29bbd6d2b06148fb874aa1e4ccb6f8ae",
            "_dom_classes": [],
            "description": "",
            "_model_name": "HTMLModel",
            "placeholder": "​",
            "_view_module": "@jupyter-widgets/controls",
            "_model_module_version": "1.5.0",
            "value": "100%",
            "_view_count": null,
            "_view_module_version": "1.5.0",
            "description_tooltip": null,
            "_model_module": "@jupyter-widgets/controls",
            "layout": "IPY_MODEL_2b602703e59f4114ac20bb9ef0b7f7e2"
          }
        },
        "05c28cefb38d4df7996ca2df33612935": {
          "model_module": "@jupyter-widgets/controls",
          "model_name": "FloatProgressModel",
          "model_module_version": "1.5.0",
          "state": {
            "_view_name": "ProgressView",
            "style": "IPY_MODEL_4aa7f85923b442a9ad460ffc6ae17734",
            "_dom_classes": [],
            "description": "",
            "_model_name": "FloatProgressModel",
            "bar_style": "success",
            "max": 91889,
            "_view_module": "@jupyter-widgets/controls",
            "_model_module_version": "1.5.0",
            "value": 91889,
            "_view_count": null,
            "_view_module_version": "1.5.0",
            "orientation": "horizontal",
            "min": 0,
            "description_tooltip": null,
            "_model_module": "@jupyter-widgets/controls",
            "layout": "IPY_MODEL_79e1ba5303124955acbfb73804f09b76"
          }
        },
        "faad0027ca6d4dbb983c7ad4fc0a41c3": {
          "model_module": "@jupyter-widgets/controls",
          "model_name": "HTMLModel",
          "model_module_version": "1.5.0",
          "state": {
            "_view_name": "HTMLView",
            "style": "IPY_MODEL_5be4c9837f6b46e6ab1203a49319fe69",
            "_dom_classes": [],
            "description": "",
            "_model_name": "HTMLModel",
            "placeholder": "​",
            "_view_module": "@jupyter-widgets/controls",
            "_model_module_version": "1.5.0",
            "value": " 91889/91889 [1:07:12&lt;00:00, 28.20it/s]",
            "_view_count": null,
            "_view_module_version": "1.5.0",
            "description_tooltip": null,
            "_model_module": "@jupyter-widgets/controls",
            "layout": "IPY_MODEL_e99c1d4456094225b0d2f1e55ae823cd"
          }
        },
        "29bbd6d2b06148fb874aa1e4ccb6f8ae": {
          "model_module": "@jupyter-widgets/controls",
          "model_name": "DescriptionStyleModel",
          "model_module_version": "1.5.0",
          "state": {
            "_view_name": "StyleView",
            "_model_name": "DescriptionStyleModel",
            "description_width": "",
            "_view_module": "@jupyter-widgets/base",
            "_model_module_version": "1.5.0",
            "_view_count": null,
            "_view_module_version": "1.2.0",
            "_model_module": "@jupyter-widgets/controls"
          }
        },
        "2b602703e59f4114ac20bb9ef0b7f7e2": {
          "model_module": "@jupyter-widgets/base",
          "model_name": "LayoutModel",
          "model_module_version": "1.2.0",
          "state": {
            "_view_name": "LayoutView",
            "grid_template_rows": null,
            "right": null,
            "justify_content": null,
            "_view_module": "@jupyter-widgets/base",
            "overflow": null,
            "_model_module_version": "1.2.0",
            "_view_count": null,
            "flex_flow": null,
            "width": null,
            "min_width": null,
            "border": null,
            "align_items": null,
            "bottom": null,
            "_model_module": "@jupyter-widgets/base",
            "top": null,
            "grid_column": null,
            "overflow_y": null,
            "overflow_x": null,
            "grid_auto_flow": null,
            "grid_area": null,
            "grid_template_columns": null,
            "flex": null,
            "_model_name": "LayoutModel",
            "justify_items": null,
            "grid_row": null,
            "max_height": null,
            "align_content": null,
            "visibility": null,
            "align_self": null,
            "height": null,
            "min_height": null,
            "padding": null,
            "grid_auto_rows": null,
            "grid_gap": null,
            "max_width": null,
            "order": null,
            "_view_module_version": "1.2.0",
            "grid_template_areas": null,
            "object_position": null,
            "object_fit": null,
            "grid_auto_columns": null,
            "margin": null,
            "display": null,
            "left": null
          }
        },
        "4aa7f85923b442a9ad460ffc6ae17734": {
          "model_module": "@jupyter-widgets/controls",
          "model_name": "ProgressStyleModel",
          "model_module_version": "1.5.0",
          "state": {
            "_view_name": "StyleView",
            "_model_name": "ProgressStyleModel",
            "description_width": "",
            "_view_module": "@jupyter-widgets/base",
            "_model_module_version": "1.5.0",
            "_view_count": null,
            "_view_module_version": "1.2.0",
            "bar_color": null,
            "_model_module": "@jupyter-widgets/controls"
          }
        },
        "79e1ba5303124955acbfb73804f09b76": {
          "model_module": "@jupyter-widgets/base",
          "model_name": "LayoutModel",
          "model_module_version": "1.2.0",
          "state": {
            "_view_name": "LayoutView",
            "grid_template_rows": null,
            "right": null,
            "justify_content": null,
            "_view_module": "@jupyter-widgets/base",
            "overflow": null,
            "_model_module_version": "1.2.0",
            "_view_count": null,
            "flex_flow": null,
            "width": null,
            "min_width": null,
            "border": null,
            "align_items": null,
            "bottom": null,
            "_model_module": "@jupyter-widgets/base",
            "top": null,
            "grid_column": null,
            "overflow_y": null,
            "overflow_x": null,
            "grid_auto_flow": null,
            "grid_area": null,
            "grid_template_columns": null,
            "flex": null,
            "_model_name": "LayoutModel",
            "justify_items": null,
            "grid_row": null,
            "max_height": null,
            "align_content": null,
            "visibility": null,
            "align_self": null,
            "height": null,
            "min_height": null,
            "padding": null,
            "grid_auto_rows": null,
            "grid_gap": null,
            "max_width": null,
            "order": null,
            "_view_module_version": "1.2.0",
            "grid_template_areas": null,
            "object_position": null,
            "object_fit": null,
            "grid_auto_columns": null,
            "margin": null,
            "display": null,
            "left": null
          }
        },
        "5be4c9837f6b46e6ab1203a49319fe69": {
          "model_module": "@jupyter-widgets/controls",
          "model_name": "DescriptionStyleModel",
          "model_module_version": "1.5.0",
          "state": {
            "_view_name": "StyleView",
            "_model_name": "DescriptionStyleModel",
            "description_width": "",
            "_view_module": "@jupyter-widgets/base",
            "_model_module_version": "1.5.0",
            "_view_count": null,
            "_view_module_version": "1.2.0",
            "_model_module": "@jupyter-widgets/controls"
          }
        },
        "e99c1d4456094225b0d2f1e55ae823cd": {
          "model_module": "@jupyter-widgets/base",
          "model_name": "LayoutModel",
          "model_module_version": "1.2.0",
          "state": {
            "_view_name": "LayoutView",
            "grid_template_rows": null,
            "right": null,
            "justify_content": null,
            "_view_module": "@jupyter-widgets/base",
            "overflow": null,
            "_model_module_version": "1.2.0",
            "_view_count": null,
            "flex_flow": null,
            "width": null,
            "min_width": null,
            "border": null,
            "align_items": null,
            "bottom": null,
            "_model_module": "@jupyter-widgets/base",
            "top": null,
            "grid_column": null,
            "overflow_y": null,
            "overflow_x": null,
            "grid_auto_flow": null,
            "grid_area": null,
            "grid_template_columns": null,
            "flex": null,
            "_model_name": "LayoutModel",
            "justify_items": null,
            "grid_row": null,
            "max_height": null,
            "align_content": null,
            "visibility": null,
            "align_self": null,
            "height": null,
            "min_height": null,
            "padding": null,
            "grid_auto_rows": null,
            "grid_gap": null,
            "max_width": null,
            "order": null,
            "_view_module_version": "1.2.0",
            "grid_template_areas": null,
            "object_position": null,
            "object_fit": null,
            "grid_auto_columns": null,
            "margin": null,
            "display": null,
            "left": null
          }
        },
        "ae91a7a684054d9592fc60382074f767": {
          "model_module": "@jupyter-widgets/controls",
          "model_name": "HBoxModel",
          "model_module_version": "1.5.0",
          "state": {
            "_view_name": "HBoxView",
            "_dom_classes": [],
            "_model_name": "HBoxModel",
            "_view_module": "@jupyter-widgets/controls",
            "_model_module_version": "1.5.0",
            "_view_count": null,
            "_view_module_version": "1.5.0",
            "box_style": "",
            "layout": "IPY_MODEL_373ecba094fe463f9239d35eabfdafcb",
            "_model_module": "@jupyter-widgets/controls",
            "children": [
              "IPY_MODEL_59da9eb546c345f68fd889462d8d13b8",
              "IPY_MODEL_3c5f6072f59a4a64b6d859c66882b5e0",
              "IPY_MODEL_d415b1405ce64e0b95f622bb80fd6a7b"
            ]
          }
        },
        "373ecba094fe463f9239d35eabfdafcb": {
          "model_module": "@jupyter-widgets/base",
          "model_name": "LayoutModel",
          "model_module_version": "1.2.0",
          "state": {
            "_view_name": "LayoutView",
            "grid_template_rows": null,
            "right": null,
            "justify_content": null,
            "_view_module": "@jupyter-widgets/base",
            "overflow": null,
            "_model_module_version": "1.2.0",
            "_view_count": null,
            "flex_flow": null,
            "width": null,
            "min_width": null,
            "border": null,
            "align_items": null,
            "bottom": null,
            "_model_module": "@jupyter-widgets/base",
            "top": null,
            "grid_column": null,
            "overflow_y": null,
            "overflow_x": null,
            "grid_auto_flow": null,
            "grid_area": null,
            "grid_template_columns": null,
            "flex": null,
            "_model_name": "LayoutModel",
            "justify_items": null,
            "grid_row": null,
            "max_height": null,
            "align_content": null,
            "visibility": null,
            "align_self": null,
            "height": null,
            "min_height": null,
            "padding": null,
            "grid_auto_rows": null,
            "grid_gap": null,
            "max_width": null,
            "order": null,
            "_view_module_version": "1.2.0",
            "grid_template_areas": null,
            "object_position": null,
            "object_fit": null,
            "grid_auto_columns": null,
            "margin": null,
            "display": null,
            "left": null
          }
        },
        "59da9eb546c345f68fd889462d8d13b8": {
          "model_module": "@jupyter-widgets/controls",
          "model_name": "HTMLModel",
          "model_module_version": "1.5.0",
          "state": {
            "_view_name": "HTMLView",
            "style": "IPY_MODEL_e95d13729cf4478b835e19430ed33400",
            "_dom_classes": [],
            "description": "",
            "_model_name": "HTMLModel",
            "placeholder": "​",
            "_view_module": "@jupyter-widgets/controls",
            "_model_module_version": "1.5.0",
            "value": "100%",
            "_view_count": null,
            "_view_module_version": "1.5.0",
            "description_tooltip": null,
            "_model_module": "@jupyter-widgets/controls",
            "layout": "IPY_MODEL_12ba209eb7294ee19eb964cb8f6a8cb6"
          }
        },
        "3c5f6072f59a4a64b6d859c66882b5e0": {
          "model_module": "@jupyter-widgets/controls",
          "model_name": "FloatProgressModel",
          "model_module_version": "1.5.0",
          "state": {
            "_view_name": "ProgressView",
            "style": "IPY_MODEL_019c8ef243294154b95bd5f82ff2ca76",
            "_dom_classes": [],
            "description": "",
            "_model_name": "FloatProgressModel",
            "bar_style": "success",
            "max": 91889,
            "_view_module": "@jupyter-widgets/controls",
            "_model_module_version": "1.5.0",
            "value": 91889,
            "_view_count": null,
            "_view_module_version": "1.5.0",
            "orientation": "horizontal",
            "min": 0,
            "description_tooltip": null,
            "_model_module": "@jupyter-widgets/controls",
            "layout": "IPY_MODEL_3e24fd4cf76140a6a5e697bd414712cd"
          }
        },
        "d415b1405ce64e0b95f622bb80fd6a7b": {
          "model_module": "@jupyter-widgets/controls",
          "model_name": "HTMLModel",
          "model_module_version": "1.5.0",
          "state": {
            "_view_name": "HTMLView",
            "style": "IPY_MODEL_a62316983a044c649b0fc5bbc7b1f57e",
            "_dom_classes": [],
            "description": "",
            "_model_name": "HTMLModel",
            "placeholder": "​",
            "_view_module": "@jupyter-widgets/controls",
            "_model_module_version": "1.5.0",
            "value": " 91889/91889 [00:02&lt;00:00, 33522.49it/s]",
            "_view_count": null,
            "_view_module_version": "1.5.0",
            "description_tooltip": null,
            "_model_module": "@jupyter-widgets/controls",
            "layout": "IPY_MODEL_d543f22ea1284eb58f2c6ba8ee25f6f6"
          }
        },
        "e95d13729cf4478b835e19430ed33400": {
          "model_module": "@jupyter-widgets/controls",
          "model_name": "DescriptionStyleModel",
          "model_module_version": "1.5.0",
          "state": {
            "_view_name": "StyleView",
            "_model_name": "DescriptionStyleModel",
            "description_width": "",
            "_view_module": "@jupyter-widgets/base",
            "_model_module_version": "1.5.0",
            "_view_count": null,
            "_view_module_version": "1.2.0",
            "_model_module": "@jupyter-widgets/controls"
          }
        },
        "12ba209eb7294ee19eb964cb8f6a8cb6": {
          "model_module": "@jupyter-widgets/base",
          "model_name": "LayoutModel",
          "model_module_version": "1.2.0",
          "state": {
            "_view_name": "LayoutView",
            "grid_template_rows": null,
            "right": null,
            "justify_content": null,
            "_view_module": "@jupyter-widgets/base",
            "overflow": null,
            "_model_module_version": "1.2.0",
            "_view_count": null,
            "flex_flow": null,
            "width": null,
            "min_width": null,
            "border": null,
            "align_items": null,
            "bottom": null,
            "_model_module": "@jupyter-widgets/base",
            "top": null,
            "grid_column": null,
            "overflow_y": null,
            "overflow_x": null,
            "grid_auto_flow": null,
            "grid_area": null,
            "grid_template_columns": null,
            "flex": null,
            "_model_name": "LayoutModel",
            "justify_items": null,
            "grid_row": null,
            "max_height": null,
            "align_content": null,
            "visibility": null,
            "align_self": null,
            "height": null,
            "min_height": null,
            "padding": null,
            "grid_auto_rows": null,
            "grid_gap": null,
            "max_width": null,
            "order": null,
            "_view_module_version": "1.2.0",
            "grid_template_areas": null,
            "object_position": null,
            "object_fit": null,
            "grid_auto_columns": null,
            "margin": null,
            "display": null,
            "left": null
          }
        },
        "019c8ef243294154b95bd5f82ff2ca76": {
          "model_module": "@jupyter-widgets/controls",
          "model_name": "ProgressStyleModel",
          "model_module_version": "1.5.0",
          "state": {
            "_view_name": "StyleView",
            "_model_name": "ProgressStyleModel",
            "description_width": "",
            "_view_module": "@jupyter-widgets/base",
            "_model_module_version": "1.5.0",
            "_view_count": null,
            "_view_module_version": "1.2.0",
            "bar_color": null,
            "_model_module": "@jupyter-widgets/controls"
          }
        },
        "3e24fd4cf76140a6a5e697bd414712cd": {
          "model_module": "@jupyter-widgets/base",
          "model_name": "LayoutModel",
          "model_module_version": "1.2.0",
          "state": {
            "_view_name": "LayoutView",
            "grid_template_rows": null,
            "right": null,
            "justify_content": null,
            "_view_module": "@jupyter-widgets/base",
            "overflow": null,
            "_model_module_version": "1.2.0",
            "_view_count": null,
            "flex_flow": null,
            "width": null,
            "min_width": null,
            "border": null,
            "align_items": null,
            "bottom": null,
            "_model_module": "@jupyter-widgets/base",
            "top": null,
            "grid_column": null,
            "overflow_y": null,
            "overflow_x": null,
            "grid_auto_flow": null,
            "grid_area": null,
            "grid_template_columns": null,
            "flex": null,
            "_model_name": "LayoutModel",
            "justify_items": null,
            "grid_row": null,
            "max_height": null,
            "align_content": null,
            "visibility": null,
            "align_self": null,
            "height": null,
            "min_height": null,
            "padding": null,
            "grid_auto_rows": null,
            "grid_gap": null,
            "max_width": null,
            "order": null,
            "_view_module_version": "1.2.0",
            "grid_template_areas": null,
            "object_position": null,
            "object_fit": null,
            "grid_auto_columns": null,
            "margin": null,
            "display": null,
            "left": null
          }
        },
        "a62316983a044c649b0fc5bbc7b1f57e": {
          "model_module": "@jupyter-widgets/controls",
          "model_name": "DescriptionStyleModel",
          "model_module_version": "1.5.0",
          "state": {
            "_view_name": "StyleView",
            "_model_name": "DescriptionStyleModel",
            "description_width": "",
            "_view_module": "@jupyter-widgets/base",
            "_model_module_version": "1.5.0",
            "_view_count": null,
            "_view_module_version": "1.2.0",
            "_model_module": "@jupyter-widgets/controls"
          }
        },
        "d543f22ea1284eb58f2c6ba8ee25f6f6": {
          "model_module": "@jupyter-widgets/base",
          "model_name": "LayoutModel",
          "model_module_version": "1.2.0",
          "state": {
            "_view_name": "LayoutView",
            "grid_template_rows": null,
            "right": null,
            "justify_content": null,
            "_view_module": "@jupyter-widgets/base",
            "overflow": null,
            "_model_module_version": "1.2.0",
            "_view_count": null,
            "flex_flow": null,
            "width": null,
            "min_width": null,
            "border": null,
            "align_items": null,
            "bottom": null,
            "_model_module": "@jupyter-widgets/base",
            "top": null,
            "grid_column": null,
            "overflow_y": null,
            "overflow_x": null,
            "grid_auto_flow": null,
            "grid_area": null,
            "grid_template_columns": null,
            "flex": null,
            "_model_name": "LayoutModel",
            "justify_items": null,
            "grid_row": null,
            "max_height": null,
            "align_content": null,
            "visibility": null,
            "align_self": null,
            "height": null,
            "min_height": null,
            "padding": null,
            "grid_auto_rows": null,
            "grid_gap": null,
            "max_width": null,
            "order": null,
            "_view_module_version": "1.2.0",
            "grid_template_areas": null,
            "object_position": null,
            "object_fit": null,
            "grid_auto_columns": null,
            "margin": null,
            "display": null,
            "left": null
          }
        }
      }
    }
  },
  "cells": [
    {
      "cell_type": "markdown",
      "metadata": {
        "id": "O9IB3NMJnRpg"
      },
      "source": [
        "#**Milestone 2:**\n",
        "Preprocess the news dataset."
      ]
    },
    {
      "cell_type": "markdown",
      "metadata": {
        "id": "OCZ64HgIoKrE"
      },
      "source": [
        "### **Setting up the environment**"
      ]
    },
    {
      "cell_type": "code",
      "metadata": {
        "id": "vC5NiKQsnE0X",
        "colab": {
          "base_uri": "https://localhost:8080/"
        },
        "outputId": "465d2b89-d4e2-42f6-8f24-08e9f5eafcfe"
      },
      "source": [
        "from google.colab import drive\n",
        "drive.mount('/content/drive', force_remount=True)"
      ],
      "execution_count": 1,
      "outputs": [
        {
          "output_type": "stream",
          "text": [
            "Mounted at /content/drive\n"
          ],
          "name": "stdout"
        }
      ]
    },
    {
      "cell_type": "markdown",
      "metadata": {
        "id": "nDLDjeBwrxDk"
      },
      "source": [
        "###**Importing the required modules**"
      ]
    },
    {
      "cell_type": "code",
      "metadata": {
        "_uuid": "8f2839f25d086af736a60e9eeb907d3b93b6e0e5",
        "_cell_guid": "b1076dfc-b9ad-4769-8c92-a6c4dae69d19",
        "trusted": true,
        "id": "G_chUuT83sNu"
      },
      "source": [
        "# dependencies\n",
        "from tqdm.notebook import tqdm\n",
        "from pickle import load\n",
        "import pandas as pd\n",
        "import numpy as np\n",
        "import string"
      ],
      "execution_count": 2,
      "outputs": []
    },
    {
      "cell_type": "markdown",
      "metadata": {
        "id": "GXlyzv8rsmP_"
      },
      "source": [
        "###**Loading the dataset**"
      ]
    },
    {
      "cell_type": "code",
      "metadata": {
        "trusted": true,
        "id": "sxt2nq943sN7",
        "colab": {
          "base_uri": "https://localhost:8080/"
        },
        "outputId": "895898de-8429-4461-dc48-f02f0b90520e"
      },
      "source": [
        "# load stories and summaries' list\n",
        "stories = load(open('/content/drive/MyDrive/Summarize News Articles/data/stories.pickle', 'rb'))\n",
        "print('Loaded Stories %d' % len(stories))"
      ],
      "execution_count": 3,
      "outputs": [
        {
          "output_type": "stream",
          "text": [
            "Loaded Stories 91889\n"
          ],
          "name": "stdout"
        }
      ]
    },
    {
      "cell_type": "code",
      "metadata": {
        "colab": {
          "base_uri": "https://localhost:8080/"
        },
        "id": "wK0XvOyAivW1",
        "outputId": "66692829-c29c-4499-9f1d-35147c7fc24a"
      },
      "source": [
        "print(stories[:5])"
      ],
      "execution_count": 4,
      "outputs": [
        {
          "output_type": "stream",
          "text": [
            "[{'story': '(CNN Student News) -- Record the CNN Special Investigations Unit Classroom Edition: Autism is a World when it airs commercial-free on Monday, March 31, 2008 from approximately 4:00-- 5:00 a.m. ET on CNN. (A short feature begins at 4:00 a.m. and precedes the program.)\\n\\nProgram Overview\\n\\nFor years, Sue Rubin says she was \"her own worst nightmare.\" Sue has autism, and until age 13, she was unable to communicate or control her unusual behavior. Now in her late twenties, Sue has become a disabled-rights advocate and a college student with a top IQ. In the Academy Award-nominated documentary Autism is a World, filmmaker Gerry Wurzburg and CNN take a rare look at autism through the words of a young woman who lives with it.\\n\\nGrade Levels: 9-12, college\\n\\nSubject Areas: Health, Social Studies, Technology, Current Issues\\n\\nObjectives: The CNN Special Investigations Unit Classroom Edition: Autism is a World and its corresponding discussion questions and activities challenge students to:\\n\\nCurriculum Connections\\n\\nHealth\\n\\nStandard 1. Knows the availability and effective use of health services, products, and information\\n\\nLevel IV [Grade: 9-12]\\n\\nBenchmark 5. Knows situations that require professional health services in the areas of prevention, treatment, and rehabilitation\\n\\nStandard 3. Understands the relationship of family health to individual health\\n\\nLevel IV [Grade: 9-12]\\n\\nBenchmark 1. Understands methods to facilitate the transition from the role of a child to the role of an independent adult in the family\\n\\nStandard 4. Knows how to maintain mental and emotional health\\n\\nLevel IV [Grade: 9-12]\\n\\nBenchmark 2. Knows strategies for coping with and overcoming feelings of rejection, social isolation, and other forms of stress\\n\\nContent Knowledge: A Compendium of Standards and Benchmarks for K-12 Education (Copyright 2000 McREL) is published online by Mid-continent Research for Education and Learning (McREL) (http://www.mcrel.org/standards-benchmarks/), 2550 S. Parker Road, Suite 500, Aurora, CO 80014; Telephone: 303/337-0990\\n\\nSocial Studies\\n\\nStandard VIII. Science, Technology and Society: Students will examine the relationships among science, technology and society.\\n\\nThe Curriculum Standards for Social Studies (http://www.socialstudies.org/standards/) are published by the National Council for the Social Studies (http://ncss.org/).\\n\\nDiscussion Questions\\n\\n1. How old is Sue Rubin? What type of disability does she have? What symptoms does she display? What is \"mental retardation\"? How does mental retardation differ from autism? Why do you think that Sue was thought to be mentally retarded when she was younger? What was her life like before she could communicate? How did she interpret sounds? How does Sue feel about having been perceived as retarded?\\n\\n2. How does Sue say she learned to communicate? What type of device does she use to communicate? How did Sue\\'s life change once she learned how to communicate? Based on what you\\'ve observed in the program, what gains has Sue made over the years in terms of managing her autistic behaviors?\\n\\n3. How would you describe Sue\\'s relationships with her parents and grandparents? What challenges did Sue\\'s parents face when raising Sue during her early years? According to the program, what measures have Sue\\'s parents taken to help foster their daughter\\'s growth and development over the years? In the program, Sue states, \"When I wasn\\'t able to communicate, I was considered a non-person, but I was treated well -- intellectually, socially, culturally and personally.\" What do you think that she means? Why do you think that Sue considers herself lucky to have the family that she has?\\n\\n4. Do you think that it is important for Sue to live independently? What types of personal, financial and governmental assistance does Sue need to live in her own home? What are Sue\\'s greatest short-term and long-term concerns about maintaining her independent lifestyle? How would you describe Sue\\'s relationships with the different members of her support team? What skills and attributes do you think that a person needs to have to work well with a non-verbal autistic person?\\n\\n5. In what ways is Sue similar to people her age who are not autistic? Do you think that Sue has the same capacity to experience emotions as non-autistic people? Explain. How does Sue\\'s disorder impact her ability to express emotions?\\n\\n6. According to Dr. Margaret Bauman, what is autism, and what parts of the brain can it affect? According to the program, why did Sue respond so quickly to facilitated communication after having been \"lost in autism\" for 13 years? Why are plastic spoons important to Sue? Why does Sue like to run water over them? In the show, Sue states that solitude is her \"best friend\" and her \"worst enemy.\" What do you think that she means?\\n\\n7. What college does Sue attend? Why did she select this school? What challenges has she faced while at college? How do you think that these challenges compare to the ones that many non-autistic college students face? What is Sue\\'s academic major? What type of work does she hope to do after she graduates? How does attending school impact Sue\\'s ability to manage her autism?\\n\\n8. To what audience did Sue deliver a speech about living with autism? Why do you think that writing the speech was an \"arduous process\" for Sue? Sue states that the goal of her speech was to \"enlighten individuals to the potential of their own voices.\" What do you think that she means? Why do you think that Sue has chosen to pursue this goal?\\n\\n9. Do you know someone that is autistic? How has autism impacted this person and the lives of his or her loved ones? What symptoms of autism does he or she have? How do these symptoms compare to the ones displayed by Sue?\\n\\n10. Why did Sue decide to make this documentary? Why do you think that this documentary is titled Autism is a World? Based on what you now know about Sue and what it\\'s like for her to live with autism, how would you describe Sue\\'s character? What are her greatest strengths?\\n\\n11. What are your thoughts and feelings regarding Autism is a World? What insights or lessons about autism did you learn as a result of watching this program?\\n\\n12. Having watched Autism is a World, do you have any follow-up questions you\\'d like to ask Sue?\\n\\nSuggested Activities\\n\\n1. What are Autism Spectrum Disorders?\\n\\nInform students that, though the field of autism research is continuing to evolve, much has been learned about the disorder since the mid-1940s, when Dr. Leo Kanner published his first paper identifying autistic children, and Dr. Hans Asperger described a milder form of autism that became known as Asperger syndrome. Autism is considered a \"spectrum disorder\" because the number and intensity of symptoms can greatly vary among those with autism. Autism spectrum disorders (ASD), which are also known as \"pervasive developmental disorders,\" can often be detected by the age of three. ASD is an umbrella term that includes the following diagnoses:\\n\\nDivide your students into five groups and assign each group a different ASD from the list above. Instruct each group to conduct research to learn about the symptoms, characteristics and differentiated diagnoses associated with its assigned disorder. Then, have groups prepare presentations of their findings that include a brief mock case study to illustrate how the disorders might manifest in a child.\\n\\nAfter the presentations, challenge students to identify the common traits associated with all autistic disorders. (All people with ASD have impaired communication, problems with social relationships and like to engage in repetitive motions.) Ask students:\\n\\nFollowing the discussion, refer students back to Autism is a World to make a list of the symptoms and behaviors that Sue Rubin displayed during the program. Then ask students: Based on what you know about Ms. Rubin, where would you say that her disability falls within the spectrum of autistic disorders?\\n\\n2. Treating Autism\\n\\nPoint out to students that, although autistic symptoms in children may lessen with age, autism is a lifelong disorder. There are various types of therapies available for treating autism, including behavior modification, sensory integration, medications and dietary interventions. However, because the nature and severity of autistic symptoms and behaviors can vary, no one approach works for every person. According to the National Institute of Mental Health, most professionals agree that early intervention is important and that most individuals with ASD respond well to highly structured, specialized programs.\\n\\nAfter you have shared this information, pair students and assign each pair one of the following ASD treatment approaches:\\n\\nBiomedical Treatments\\n\\n(CNN does not endorse any specific medication. The information provided here is meant as an overview of the types of medications sometimes prescribed.)\\n\\nInstruct each pair to investigate the philosophy, protocols and benefits and drawbacks associated with its treatment method. Have pairs deliver presentations of their findings. (If possible, have the students who are presenting behavior modification approaches demonstrate the techniques, and have the students who are speaking about medications and dietary interventions include graphics that depict how the treatments are thought to affect the different parts of the human body.) Following the presentations, pose the following questions for class discussion:\\n\\nExtension: Have students draw upon thier research to create an informational brochure about ASD for parents and local mental health providers.\\n\\nKeywords\\n\\nSue Rubin, autism spectrum disorders, pervasive developmental disorder, mental retardation, non-verbal, disability, relationships, self-abusive behaviors, motor skills, emotions, learning, language, communication system, sensory integration, echolalia, independent living, HUD, support services, Whittier College, intelligence, neurobiology, Dr. Margaret Bauman, advocate, documentary E-mail to a friend\\n\\n', 'highlights': ['Learn about autism spectrum disorders (ASD)', 'Examine different treatment approaches for ASD', 'Create an informational brochure about ASD for parents and mental health providers']}, {'story': '(InStyle.com) -- We asked five stars for their innermost thoughts on perfume, then chose the season\\'s best new scents\\n\\nBeyonce: \"I\\'ll stick with one scent for five or six years. I\\'ll wear it all the time.\"\\n\\nBeyoncé\\n\\nWhat was your first perfume?\\n\\n273 by Fred Hayman. I wore it when I was a teenager. My mom used to wear it, and I stole it. (Fred Hayman 273, $55/2.5 fl. oz.; fragrancenet.com)\\n\\nWhat images would pop into your head if you smelled it now?\\n\\nGetting ready, curling my hair, putting my makeup on, going out to a party. And my mother, my childhood, my house.\\n\\nWhat does your house smell like?\\n\\nVanilla. Warm and sweet. I have a lot of Diptyque candles around the house. Even when I\\'m away, I have someone burn them. I like having the scent in my pillows. (Diptyque Opopanax candle, $55; bergdorfgoodman.com)\\n\\nYou\\'re the face of Emporio Armani Diamonds, which has rose and raspberry notes. What\\'s it like?\\n\\nSoft, sweet and comforting. Yesterday I had a day off, which is rare, and I took a long bath. When I got out, I was by myself and knew I would be all day, but I still sprayed it on. (Emporio Armani Diamonds, $50/1.7 fl. oz.; at Macy\\'s)\\n\\nWhat other scents do you like?\\n\\nMy favorite scent is my mother\\'s cooking: her yams and her soul food. They smell like love, like being full and happy.\\n\\nHow about men\\'s cologne?\\n\\nI like [anything by] Creed. (Creed Original Santal, $110/1 fl. oz.; neimanmarcus.com)\\n\\nEmmy Rossum\\n\\nWhat fragrance did your mom wear while you were growing up?\\n\\nLancôme Trésor. It still reminds me of watching her get ready to go out at night. (Lancôme Trésor, $81/3.4 fl. oz.; lancome-usa.com)\\n\\nWhat was your first perfume?\\n\\nI got Elizabeth Taylor White Diamonds for my sixth birthday. I felt so sophisticated! I\\'d put my mom\\'s red lipstick on my lips and cheeks, wear her high heels and spray the fragrance all over myself and the house. (Elizabeth Taylor White Diamonds, $65/3.3 fl. oz.; perfumania.com)\\n\\nWhich kind of fragrances are you usually drawn to?\\n\\nI like ones that are clean, feminine, and not so famous that they are immediately recognizable. I [rarely] tell anyone what scent I wear -- it\\'s a woman\\'s most precious sensual secret.\\n\\nCan you let us in on some of your all-time favorites?\\n\\nMy favorite is Miss Dior Chérie. It\\'s classic and feminine, but flirty. I wear it to lunch, to dinner parties, to the beach, skiing and to big occasions like the Oscars, when I want to feel especially glamorous. (Miss Dior Chérie, $65/1.7 fl. oz.; at Nordstrom)\\n\\nWhat men\\'s scent do you like?\\n\\nAngel Men. It\\'s masculine and very appealing without being too strong. (Thierry Mugler Angel Men, $102/3.4 fl. oz.; bloomingdales.com)\\n\\nWhich kind of smells are you attracted to for soaps, shampoos, lotions and home fragrances?\\n\\nI like traditional Johnson\\'s No More Tears baby shampoo and Kérastase products. I like vanilla and pomegranate for soaps. My favorite candle is Jo Malone Wild Fig & Cassis.\\n\\nDo you wear perfume when you\\'re acting?\\n\\nAlways, especially during intimate kissing scenes! I wear something that is sensual but not too obvious.\\n\\nSarah Jessica Parker\\n\\nHow is your new fragrance, Covet, different from Lovely, the first one you helped create?\\n\\nLovely is very polite. It\\'s the girl you marry, and Covet is the girl you date, you know? Covet is fun, slightly wanton, desperate. It\\'s for a stop-at-nothing-to-get-what-you-want kind of a girl. (Sarah Jessica Parker Covet, $52/1.7 fl. oz.; macys.com)\\n\\nWhat was the first scent you wore?\\n\\nLove\\'s Baby Soft. (Love\\'s Baby Soft body spray, $12/1.5 fl. oz.; at drugstores)\\n\\nIf you got a whiff of it right now, what memories would it trigger?\\n\\nIt would be seventh grade and not having enough disposable money. It would be Fiorucci, a shirt tied in a knot at the waist, and the Yankees. It would be fighting with my brothers and sisters before school and my mother yelling at me, and not finishing my homework on a Sunday night.\\n\\nDo you wear fragrance every day?\\n\\nWithout question. For some women, it\\'s lip gloss or mascara or covering a blemish. I can do without all of that. But the idea of not putting on perfume is shocking to me.\\n\\nWhere do you apply it?\\n\\nI love walking into a closet and smelling lingering aroma, so I always spray my clothes. And at the end of the bottle, when the atomizer no longer reaches the tiny little dribble that is left, I unscrew the top and pour the remainder onto a T-shirt or my dress.\\n\\nWhat\\'s your favorite men\\'s scent?\\n\\nI really love Old Spice and Guerlain Vetiver for men. (Guerlain Vetiver, $74/4.2 fl. oz.; saks.com)\\n\\nWhat home fragrance do you love?\\n\\nThere\\'s nothing better than a blue Rigaud candle. (Rigaud Chèvrefeuille candle, $75; gracioushome.com)\\n\\nDo you have a favorite flower or fruit scent?\\n\\nI love a peony when it\\'s really in season, and I love lemons.\\n\\nGwyneth Paltrow\\n\\nDo you wear perfume every day?\\n\\nNot if I\\'m just in sweatpants around the house. But if I go out, I always squirt something on. It completes the look.\\n\\nAre you always attracted to the same kind of scents?\\n\\nIt depends on my mood. [Sometimes] I like things that are a little more spicy. I really like Black Orchid, Tom Ford\\'s perfume. Something a bit sexy.\\n\\nTom Ford Black Orchid, $65/1.7 fl. oz.; neimanmarcus.com.\\n\\nYou\\'re the face of Estée Lauder Pleasures. How would you describe that fragrance?\\n\\nIt\\'s floral and feminine, a sitting-in-your-garden kind of scent. (Estée Lauder Pleasures, $45/1.7 fl. oz.; at Macy\\'s)\\n\\nWhat perfume did your mom wear when you were a kid?\\n\\nShe wore Quadrille by Balenciaga, and they don\\'t make it anymore. I always go online trying to find bottles [stashed] in someone\\'s basement to give to her as a present because she\\'s almost out of it.\\n\\nHas your taste in scents changed since you became a mom?\\n\\nNo, but when I was pregnant I couldn\\'t tolerate the smell of anything, whether it was garlic, orange juice or perfume.\\n\\nNow do you avoid scents that might overwhelm little noses?\\n\\nI just don\\'t overdo it. A little spritz goes a long way.\\n\\nWhat are some other, non-perfume fragrances you love?\\n\\nI love the smell of lilies and paperwhites. I also burn these tea-scented candles from Mariage Frères. The best shampoo I\\'ve ever found is Japanese -- it\\'s called Molto Bene B: Oce. It\\'s so good for dry hair like mine. (Mariage Frères Thé Rouge candle, $65; aedes.com; Molto Bene B: Oce Shampoo SE, $16/8.1 oz.)\\n\\nWhat scent do you love on men?\\n\\nOcean water. I like natural scents.\\n\\nVictoria Beckham\\n\\nHow would you describe Intimately Beckham?\\n\\nIt\\'s a white-flower fragrance with a lot of tuberose, which is my favorite flower. It\\'s fresh and sexy in a fashion-y way. I think it\\'s a happy smell. (Intimately Beckham, $42/1.7 fl. oz.; ulta.com)\\n\\nDoes it remind you of anything?\\n\\nWhite flowers remind me of my grandmother: timeless and gorgeous. Everything I wear I would like to think of as timeless as well. I still wear dresses I bought 10 years ago.\\n\\nSo you like florals?\\n\\nI love rose, tuberose and orange blossom. I\\'m a real girlie girl -- I love perfume, makeup and hair products. I think I know how girls want to smell.\\n\\nDo you wear different scents for different moods?\\n\\nFor me it\\'s more about the weather and what you\\'re wearing and who you\\'re with. Intimately Beckham is light, and perfect for warm weather. That\\'s why we came up with Intimately Beckham Night (coming next year), which is slightly heavier.\\n\\nHow involved was David in creating the fragrance?\\n\\nHe was hands-on. He\\'s masculine, but he\\'s in touch with his feminine side too. He loves clothes and beauty products and aftershave.\\n\\nWhich men\\'s scents does he like?\\n\\nDavid and I both love Miller Harris. (Miller Harris Feuilles de Tabac, $120/3.4 fl. oz.; bigelowchemist.com)\\n\\nWhat was your first fragrance?\\n\\nCoco Chanel. If I smelled it today, it would take me back to being 14, just when I was first really getting into fashion. (Chanel Coco, $110/3.4 fl. oz.; at Nordstrom)\\n\\nWhat scent did your mom wear?\\n\\nPoison by Christian Dior. It was so distinctive. It instantly reminds me of the eighties -- all that hair and those big dresses. (Dior Poison, $43/1 fl. oz.; drugstore.com)\\n\\nAny other favorites?\\n\\nI love Jo Malone\\'s grapefruit smells. And I have to say, nothing looks better in the bathroom than a bottle of Chanel No. 5 -- that\\'s the ultimate. E-mail to a friend\\n\\nGet a FREE TRIAL issue of InStyle - CLICK HERE!\\n\\nCopyright © 2008 Time Inc. All rights reserved.\\n\\nAdditional Reporting By Kwala Mandel; Alysia Poe; Suzanne Zuckerman\\n\\n', 'highlights': ['Perfumes trigger strong memories for stars', 'Beyoncé says her house smells like Vanilla', 'Parker: \"Idea of not putting on perfume is shocking to me\"']}, {'story': 'JERUSALEM (CNN) -- The U.N. Security Council failed to reach a consensus when it met to consider condemning an attack that killed eight people at a prominent Jewish seminary as an act of terrorism.\\n\\nAmbulance workers put one of the casualties from the seminary attack into an ambulance.\\n\\nThe council said Libya -- a new, nonpermanent member -- blocked the statement on Thursday night. Ibrahim Dabbashi, Libya\\'s deputy ambassador to the United Nations, said the attack on the school was no different than Israeli military offensives against militants in Gaza.\\n\\nBut Dan Gillerman, Israel\\'s ambassador to the United Nations, said he saw no connection between Thursday\\'s shooting and Israel\\'s operations in Gaza.\\n\\n\"This is not a story of retaliation,\" he said. \"These people have been terrorizing Israel for years, have been carrying out suicide bombings and indiscriminate attacks for years.\"\\n\\nA gunman broke into the Jewish seminary about 8:30 p.m., spraying automatic-weapons fire, authorities said. Most of the victims were students in their teens and 20s, medical officials said.\\n\\nAt least nine others were wounded before an off-duty Israel Defense Forces officer fatally shot the gunman, Jerusalem District Police commander Aharon Franko said.\\n\\nThe gunman was carrying an AK-47 and a pistol -- and had time to swap weapons during the massacre.\\n\\nPolice are trying to identify the gunman and figure out how he managed, while drawing little notice, to enter the large three-story school in a bustling residential neighborhood.\\n\\n\"There was no alert or warning about this attack,\" Franko said.  Watch the immediate aftermath of the attack »\\n\\nA first responder said the bodies were on the floor of the study hall surrounded by holy books.\\n\\nNo group has claimed responsibility for the attack.\\n\\nVideo from Thursday\\'s scene showed a frantic crowd of rescue workers carrying bloodied victims into ambulances. Dozens of police officers were scouring the campus and streets around the yeshiva in case there were other gunmen.\\n\\nOutside the school, scores of Israeli men gathered from surrounding neighborhoods, demanding justice for the attack.\\n\\nAuthorities are calling the incident at west Jerusalem\\'s Merkaz Harav yeshiva an act of terrorism. The school is one of the largest seminaries in Israel, with about 500 students in the yeshiva and 200 in an advanced graduate program.\\n\\n\"Israel is at the forefront of the struggle against terrorism and will continue to defend its citizens, who are exposed to this threat on a daily basis,\" Israel\\'s Foreign Ministry said in a written statement.\\n\\n\"Israel expects the nations of the world to support it in its war against those who murder students, women and children, by any means and with respect for neither place nor target.\"\\n\\nPresident Bush backed Israeli leaders in a statement issued Thursday, saying, \"I condemn in the strongest possible terms the terrorist attack in Jerusalem that targeted innocent students at the Merkaz Harav yeshiva. This barbaric and vicious attack on innocent civilians deserves the condemnation of every nation.\"\\n\\nBut Libya\\'s Dabbashi compared the attack with \"bloodshed in the Palestinian territory.\"\\n\\n\"For us, the human lives are the same. We judge the incident itself,\" Dabbashi told reporters after the Security Council meeting. \"When we have to condemn the killing of the Israeli civilians, we also have to look at what\\'s happening in Gaza.\"\\n\\nJerusalem security increased\\n\\nSecurity was bolstered, with thousands of additional officers across Jerusalem and the rest of Israel, authorities said.\\n\\nMeanwhile, celebratory shooting took place in Gaza City after the news of the attack, with hundreds chanting and clapping in the streets. But Palestinian Authority President Mahmoud Abbas criticized the killings.\\n\\n\"The Palestinian Authority condemns any attack on innocent civilians,\" Abbas\\' office said in a written statement.\\n\\nThe shootings came just a day after U.S. Secretary of State Condoleezza Rice, who met with both Israelis and Palestinians, announced that peace talks will resume between the two sides.\\n\\nAbbas suspended peace negotiations last week after fierce fighting broke out between Israel and Palestinian militants in Gaza, but he agreed to resume negotiations after meeting with Rice.\\n\\nIsrael will continue peace talks with the Palestinians regardless of the attack in Jerusalem, Foreign Ministry spokesman Aryeh Mekel said Thursday.\\n\\nIsrael conducted a large-scale operation in Gaza to hunt down Palestinian militants who have been firing dozens of rockets into Israel. At least 70 Palestinians and two Israeli soldiers were killed during the operation, Israeli and Palestinian sources said. Militants also fired at least 25 rockets toward Israel, wounding at least two civilians.\\n\\n\"This operation came directly after the attack committed inside Gaza. This operation is a normal response,\" said Fawzi Barhoom, a Hamas spokesman in Gaza.  Watch Barhoom\\'s reaction to the attack »\\n\\nGillerman said the Security Council should condemn the attack. \"They are so, so quick sometimes to criticize Israel for defending itself. I would like to see those members convene as we speak in order to condemn this in the strongest possible terms.\"\\n\\nThursday\\'s attack was the worst inside Israel since April 17, 2006, when a suicide bombing outside a falafel restaurant in Tel Aviv killed nine people. Islamic Jihad claimed responsibility for that attack.\\n\\nAttacks in Jerusalem are rare. Eight people were wounded August 10 in the Old City when a Palestinian resident grabbed a security guard\\'s gun and fired; and four Israeli security guards were wounded May 26 when two Palestinian gunmen began firing in east Jerusalem. All three of the assailants were killed. E-mail to a friend\\n\\nCNN\\'s Ben Wedeman and Atika Shubert contributed to this report.\\n\\n', 'highlights': ['Off-duty Israel Defense Forces officer fatally shot attacker', 'Gunman went into Jewish seminary in Jerusalem with little apparent notice', 'Police spokesman: \"There was no alert or warning about this attack\"', 'The violence comes a day after announcement of renewed peace talks']}, {'story': \"WASHINGTON (CNN) -- A retired U.S. Army colonel pleaded guilty Tuesday to awarding contracts in Iraq to a Kuwait-based firm in exchange for gifts.\\n\\nLevonda Selph of Virginia admitted accepting $4,000 in cash and a $5,000 vacation to Thailand from the unidentified contractor, which was awarded $12 million in contracts to operate Defense Department warehouses in Iraq.\\n\\nShe pleaded guilty to charges of bribery and conspiracy. She was secretly indicted on those charges in October; the charges weren't disclosed until her court appearance Tuesday.\\n\\nUnder terms of a plea agreement, Selph could receive up to 33 months in jail. She promised to repay the government $9,000 and to cooperate in an ongoing investigation.\\n\\nProsecutors said Selph was a lieutenant colonel at Camp Victory in Iraq in 2004 and 2005 when she led a committee that awarded the warehouse contracts.\\n\\nThe Justice Department said she will be free until her sentencing October 14 but will not be allowed to leave the country.\\n\\n\", 'highlights': ['Former U.S. Army colonel pleads guilty to bribery and conspiracy', 'Levonda Selph admits accepting cash, vacation from contractor', 'Prosecutors: In exchange for gifts, Selph steered contracts to firm', 'Contracts let company operate Defense Department warehouses in Iraq']}, {'story': \"LONDON, England (CNN) -- On March 30 the Open Skies treaty went into effect, liberalizing air travel between the U.S. and Europe. But how will the ease of restrictions on transatlantic routes affect business travelers?\\n\\nUnder Open Skies, European and U.S. airlines will be given unlimited access between Europe and U.S. points.\\n\\nThe treaty puts an end to the exclusive arrangement granted to British Airways, Virgin Atlantic, United Airlines and American Airlines to fly transatlantic out of London Heathrow.\\n\\nBut with the airport currently operating at almost-maximum capacity, new flights will be severely limited. As a result competition is fierce for Heathrow slots, with airlines paying as much as $60 million to get their hands on them.\\n\\nFor each flight that is added, another less lucrative service is scrapped. Airlines are giving priority to high-yield business routes to and from Heathrow.\\n\\nWhile European carriers are now allowed to fly from any point within E.U across the Atlantic, the U.S. domestic market remains closed to them.\\n\\nOperators in Europe hope that a second phase of the Open Skies deal will mean a relaxation of restrictions on European airlines' investment in U.S. carriers and the ability for European airlines to compete in the U.S. domestic market. The issue is pending in U.S. Congress.\\n\\nIf the U.S. doesn't deliver, there is a clause in the agreement that states the Open Skies treaty -- phase I included -- can be torn up.\\n\\nIndustry experts foresee some fare wars in both economy and business-class. Service options are also likely to improve as competition intensifies.\\n\\nU.S. airlines will vie with BA, the dominant carrier at Heathrow, that currently has flights to 24 U.S. cities.\\n\\nThe biggest challenge to the incumbent airlines operating out of Heathrow will come from carriers in the SkyTeam alliance, that includes Air France and KLM, Delta Air Lines, Northwest Airlines News, and Continental Airlines.\\n\\nBefore Open Skies, the SkyTeam alliance offered no transatlantic routes to and from Heathrow. By summer they will offer 10 percent of these flights. SkyTeam carriers will be located for the first time in Terminal 4.\\n\\nGiven the size of the market for U.S.-London flights, airlines will continue to offer services from Gatwick, London's second-busiest airport.\\n\\nOpen Skies will intensify competition for ailing U.S. airlines on what has been their most profitable route. Analysts expect to see consolidation between U.S. airlines as they combine international networks to beat competition.\\n\\nOne advantage U.S. airlines can offer is opportunity for connecting flights to other European cities as well as on to Asia and the Mideast. European carriers on the other hand, cannot operate domestic flights within the U.S.\\n\\nNew flights and new airlines\\n\\nOneworld Alliance\\n\\nBritish Airways will shift its Dallas and Houston services from Gatwick to Heathrow and its Warsaw operation to Gatwick. Flights to Detroit and Harare will be axed.\\n\\nIn June, the airline will also launch services between Continental Europe and New York. Operated by subsidiary OpenSkies, the daily flights will fly from either JFK or Newark to Brussels or Paris CDG using Boeing 757s from its existing fleet.\\n\\nIn the future, OpenSkies plans to fly to other business centers, including Amsterdam, Frankfurt, Milan, Madrid, Zurich, and Geneva.\\n\\nBA will also commence business-only flights between New York and London City Airport next year using Airbus A318 jets in a 32-seat layout.\\n\\nSkyTeam Airline Alliance's new transatlantic flights starting between March 30 and June 2008\\n\\n• Air France in joint venture with Delta: daily service to Los Angeles • Continental: twice-daily service to Houston and twice-daily service to Newark Liberty International (EWR) from May 29 2008 • Delta in joint venture with Air France: daily service to Atlanta and twice-daily service to New York JFK • Northwest in joint venture with KLM: daily service to Detroit, daily service to Minneapolis and daily service to Seattle.\\n\\nSlots were secured as a result of Air France ditching four daily rotations from London to Paris Charles de Gaulle and KLM dropping three of its slots to Northwest from Eindhoven and Rotterdam.\\n\\nNon-aligned airlines\\n\\nAer Lingus launched services from Dublin to Washington DC, Orlando and San Francisco last year. This followed agreement between the Irish and U.S. governments that the airline could begin operations before others.\\n\\nLow-cost airline Ryanair is considering setting up a separate long-haul carrier that would fly ultra-low-fares between secondary airports in Europe and U.S. such as Stansted and Baltimore-Washington International.\\n\\nVirgin Atlantic has decided to wait to see if Open Skies Phase II is adopted before starting new flights to New York from non-UK cities.   E-mail to a friend\\n\\n\", 'highlights': ['Biggest challenge to Heathrow incumbents will come from SkyTeam alliance', 'New flights start this year from Air France, Continental, Delta and Northwest', 'BA will launch services between Continental Europe and New York in June']}]\n"
          ],
          "name": "stdout"
        }
      ]
    },
    {
      "cell_type": "markdown",
      "metadata": {
        "id": "Y6odK7I9rVWP"
      },
      "source": [
        "###**Preprocessing the data (stories & summaries)**"
      ]
    },
    {
      "cell_type": "code",
      "metadata": {
        "trusted": true,
        "id": "4uFllEJj3sN7"
      },
      "source": [
        "# clean a list of lines\n",
        "def clean_lines(lines):\n",
        "    cleaned = list()\n",
        "    # prepare a translation table to remove punctuation\n",
        "    table = str.maketrans('', '', string.punctuation)\n",
        "    for line in lines:\n",
        "        # strip source cnn office if it exists\n",
        "        index = line.find('(CNN) -- ')\n",
        "        if index > -1:\n",
        "            line = line[index+len('(CNN) -- '):]\n",
        "        # tokenize on white space\n",
        "        line = line.split()\n",
        "        # convert to lower case\n",
        "        line = [word.lower() for word in line]\n",
        "        # remove punctuation from each token\n",
        "        line = [w.translate(table) for w in line]\n",
        "        # remove tokens with numbers in them\n",
        "        line = [word for word in line if word.isalpha()]\n",
        "        # store as string\n",
        "        cleaned.append(' '.join(line))\n",
        "    # remove empty strings\n",
        "    cleaned = [c for c in cleaned if len(c) > 0]\n",
        "    return cleaned"
      ],
      "execution_count": 5,
      "outputs": []
    },
    {
      "cell_type": "code",
      "metadata": {
        "trusted": true,
        "id": "8uu3UFE-3sOB",
        "colab": {
          "base_uri": "https://localhost:8080/",
          "height": 49,
          "referenced_widgets": [
            "f2794aa9148145eebc3b7a7f38d7e6f2",
            "313733a223564d10aecb012c38775aee",
            "163724c758014d40a55daecbbf51972b",
            "02d0cc8d1ee946a29e89530c9ff947ac",
            "9a75a4bbce584ae58c49d70c32398cbb",
            "5ae69ca5f7fa45ec88961e4816e6dc99",
            "76306a6ddc76497b9bba00b98b020f9a",
            "4f1b467df2b14ea0ade076a77fc67094",
            "e72eb9d610c94c81972e87f6ff46cae4",
            "5fc1fd0366714644b695872395a8e138",
            "0b595888dcb747c3aaeb2d5bfc3985a9"
          ]
        },
        "outputId": "2b29dfce-e900-4805-c75e-7a5180c841eb"
      },
      "source": [
        "# clean th stories and summaries\n",
        "for example in tqdm(stories):\n",
        "    example['story'] = clean_lines(example['story'].split('\\n'))\n",
        "    example['highlights'] = clean_lines(example['highlights'])"
      ],
      "execution_count": 6,
      "outputs": [
        {
          "output_type": "display_data",
          "data": {
            "application/vnd.jupyter.widget-view+json": {
              "model_id": "f2794aa9148145eebc3b7a7f38d7e6f2",
              "version_minor": 0,
              "version_major": 2
            },
            "text/plain": [
              "  0%|          | 0/91889 [00:00<?, ?it/s]"
            ]
          },
          "metadata": {
            "tags": []
          }
        }
      ]
    },
    {
      "cell_type": "code",
      "metadata": {
        "colab": {
          "base_uri": "https://localhost:8080/"
        },
        "id": "t8Lmskx2fKiA",
        "outputId": "922b7113-94b2-489d-8d06-0f1e3feeea68"
      },
      "source": [
        "print(example['story'][:2])"
      ],
      "execution_count": 10,
      "outputs": [
        {
          "output_type": "stream",
          "text": [
            "['cnn student news record the cnn special investigations unit classroom edition autism is a world when it airs commercialfree on monday march from approximately am et on cnn a short feature begins at am and precedes the program', 'program overview']\n"
          ],
          "name": "stdout"
        }
      ]
    },
    {
      "cell_type": "markdown",
      "metadata": {
        "id": "RaK_8D_9rgBn"
      },
      "source": [
        "###**Extracting summaries from the stories with ROUGE score**"
      ]
    },
    {
      "cell_type": "code",
      "metadata": {
        "trusted": true,
        "id": "6t6i-ylB3sOC"
      },
      "source": [
        "# install the Rouge module for calculating the Rouge scores\n",
        "!pip install -q Rouge"
      ],
      "execution_count": 11,
      "outputs": []
    },
    {
      "cell_type": "code",
      "metadata": {
        "trusted": true,
        "id": "2x2JboI23sOC"
      },
      "source": [
        "# import the Rouge module and instantiate it\n",
        "from rouge import Rouge \n",
        "rouge = Rouge()"
      ],
      "execution_count": 12,
      "outputs": []
    },
    {
      "cell_type": "code",
      "metadata": {
        "trusted": true,
        "id": "Nz-yAZZx3sOC"
      },
      "source": [
        "# utility for calculating Rouge score between pairs of sentences\n",
        "def get_rouge_f1(references, sentence):\n",
        "    score_ls = []\n",
        "    for ans in references:\n",
        "        scores = rouge.get_scores(ans, sentence)\n",
        "        score_ls.append(scores[0]['rouge-1']['f'])\n",
        "    \n",
        "    # return the maximum score\n",
        "    return max(score_ls)"
      ],
      "execution_count": 13,
      "outputs": []
    },
    {
      "cell_type": "code",
      "metadata": {
        "trusted": true,
        "id": "inSUAGM-3sOD"
      },
      "source": [
        "def get_list_ans_each_story(story_inp, references_inp):\n",
        "    \n",
        "    scr = []\n",
        "    hyp = []\n",
        "\n",
        "    # iterate through each sentence of a given story\n",
        "    for i in range(0, len(story_inp)):\n",
        "        # calculate Rouge score between the current sentence and the\n",
        "        # provided (abstractive summaries)\n",
        "        hypothesis = story_inp[i]\n",
        "        scores = get_rouge_f1(references_inp, hypothesis)\n",
        "\n",
        "        # track sentences iterated and store their scores\n",
        "        hyp.append(hypothesis)\n",
        "        scr.append(scores)\n",
        "        \n",
        "    # convert to NumPy array\n",
        "    hyp1 = np.array(hyp)\n",
        "    \n",
        "    # sort the scores to get the indices\n",
        "    scr1 = np.array(scr)\n",
        "    scr2 = np.sort(scr)[::-1]\n",
        "    ind  = np.argsort(scr)[::-1]\n",
        "    \n",
        "    # take top 5 \n",
        "    ind1 = ind[0:5]\n",
        "    list_ref = list(hyp1[ind1])\n",
        "    \n",
        "    return list_ref, scr2[0:5]"
      ],
      "execution_count": 14,
      "outputs": []
    },
    {
      "cell_type": "code",
      "metadata": {
        "trusted": true,
        "id": "rpgzhBwZ3sOG",
        "colab": {
          "base_uri": "https://localhost:8080/",
          "height": 49,
          "referenced_widgets": [
            "cdf796ef4dea4431be36cfbb147a609c",
            "16d7e6715de24fc3841fefb6e2acb3a2",
            "181882a4ef784839854c93bc3a1cc813",
            "05c28cefb38d4df7996ca2df33612935",
            "faad0027ca6d4dbb983c7ad4fc0a41c3",
            "29bbd6d2b06148fb874aa1e4ccb6f8ae",
            "2b602703e59f4114ac20bb9ef0b7f7e2",
            "4aa7f85923b442a9ad460ffc6ae17734",
            "79e1ba5303124955acbfb73804f09b76",
            "5be4c9837f6b46e6ab1203a49319fe69",
            "e99c1d4456094225b0d2f1e55ae823cd"
          ]
        },
        "outputId": "b39d0fe4-4f74-43ee-eea4-b39f932d03f3"
      },
      "source": [
        "dict_id_summary = {}\n",
        "dict_id_score = {}\n",
        "\n",
        "# iterate through each story\n",
        "for s_id in tqdm(range(0, len(stories))):\n",
        "    \n",
        "    # story inputs (each sentence of a story)\n",
        "    story_inp = stories[s_id]['story']\n",
        "    \n",
        "    # reference inputs (abstractive summaries)\n",
        "    references_inp = stories[s_id]['highlights']\n",
        "    \n",
        "    # get the list of references and scores\n",
        "    list_ref, list_score = get_list_ans_each_story(story_inp, references_inp)\n",
        "    \n",
        "    # store the results in the dictionaries\n",
        "    dict_id_summary[s_id] = list_ref\n",
        "    dict_id_score[s_id] = list_score"
      ],
      "execution_count": 15,
      "outputs": [
        {
          "output_type": "display_data",
          "data": {
            "application/vnd.jupyter.widget-view+json": {
              "model_id": "cdf796ef4dea4431be36cfbb147a609c",
              "version_major": 2,
              "version_minor": 0
            },
            "text/plain": [
              "  0%|          | 0/91889 [00:00<?, ?it/s]"
            ]
          },
          "metadata": {
            "tags": []
          }
        }
      ]
    },
    {
      "cell_type": "markdown",
      "metadata": {
        "id": "Da2sl_40r5GE"
      },
      "source": [
        "###**Creating a DataFrame with the intermediate results**"
      ]
    },
    {
      "cell_type": "code",
      "metadata": {
        "trusted": true,
        "id": "JKnYvyfe3sOG",
        "colab": {
          "base_uri": "https://localhost:8080/",
          "height": 49,
          "referenced_widgets": [
            "ae91a7a684054d9592fc60382074f767",
            "373ecba094fe463f9239d35eabfdafcb",
            "59da9eb546c345f68fd889462d8d13b8",
            "3c5f6072f59a4a64b6d859c66882b5e0",
            "d415b1405ce64e0b95f622bb80fd6a7b",
            "e95d13729cf4478b835e19430ed33400",
            "12ba209eb7294ee19eb964cb8f6a8cb6",
            "019c8ef243294154b95bd5f82ff2ca76",
            "3e24fd4cf76140a6a5e697bd414712cd",
            "a62316983a044c649b0fc5bbc7b1f57e",
            "d543f22ea1284eb58f2c6ba8ee25f6f6"
          ]
        },
        "outputId": "75eee77a-08f8-4ad7-acab-d08ab0c96e93"
      },
      "source": [
        "story_id = []\n",
        "label_sent = []\n",
        "sent_id = []\n",
        "list_sent = []\n",
        "\n",
        "# iterate through each story\n",
        "for i in tqdm(range(0, len(stories))):\n",
        "    \n",
        "    # list of references for the story\n",
        "    list_ref = dict_id_summary[i]\n",
        "    \n",
        "    # iterate through each sentence of the current story\n",
        "    for j, story in enumerate(stories[i]['story']) :\n",
        "        \n",
        "        # check if the story is in the list reference\n",
        "        ind =  int(story in list_ref)\n",
        "        \n",
        "        # append the indicator as the labels\n",
        "        label_sent.append(ind)\n",
        "        \n",
        "        # 1. append the sentences per story\n",
        "        list_sent.append(story)\n",
        "        \n",
        "        # 2. append the sent_ids\n",
        "        sent_id.append(j)\n",
        "        \n",
        "        # 3. append the story_id\n",
        "        story_id.append(i)"
      ],
      "execution_count": 16,
      "outputs": [
        {
          "output_type": "display_data",
          "data": {
            "application/vnd.jupyter.widget-view+json": {
              "model_id": "ae91a7a684054d9592fc60382074f767",
              "version_minor": 0,
              "version_major": 2
            },
            "text/plain": [
              "  0%|          | 0/91889 [00:00<?, ?it/s]"
            ]
          },
          "metadata": {
            "tags": []
          }
        }
      ]
    },
    {
      "cell_type": "code",
      "metadata": {
        "trusted": true,
        "id": "9BsSTpj13sOH"
      },
      "source": [
        "# create the dataframe\n",
        "df_story_summary = pd.DataFrame()\n",
        "\n",
        "df_story_summary['story_id'] = story_id\n",
        "df_story_summary['sent_id'] = sent_id\n",
        "df_story_summary['sentence'] = list_sent\n",
        "df_story_summary['label_sent'] = label_sent"
      ],
      "execution_count": 17,
      "outputs": []
    },
    {
      "cell_type": "code",
      "metadata": {
        "trusted": true,
        "id": "565PEomh3sOJ",
        "colab": {
          "base_uri": "https://localhost:8080/",
          "height": 203
        },
        "outputId": "fc53cc63-ded4-48a9-d097-4e1b21ef49ee"
      },
      "source": [
        "# preview the dataframe\n",
        "df_story_summary.head()"
      ],
      "execution_count": 20,
      "outputs": [
        {
          "output_type": "execute_result",
          "data": {
            "text/html": [
              "<div>\n",
              "<style scoped>\n",
              "    .dataframe tbody tr th:only-of-type {\n",
              "        vertical-align: middle;\n",
              "    }\n",
              "\n",
              "    .dataframe tbody tr th {\n",
              "        vertical-align: top;\n",
              "    }\n",
              "\n",
              "    .dataframe thead th {\n",
              "        text-align: right;\n",
              "    }\n",
              "</style>\n",
              "<table border=\"1\" class=\"dataframe\">\n",
              "  <thead>\n",
              "    <tr style=\"text-align: right;\">\n",
              "      <th></th>\n",
              "      <th>story_id</th>\n",
              "      <th>sent_id</th>\n",
              "      <th>sentence</th>\n",
              "      <th>label_sent</th>\n",
              "    </tr>\n",
              "  </thead>\n",
              "  <tbody>\n",
              "    <tr>\n",
              "      <th>0</th>\n",
              "      <td>0</td>\n",
              "      <td>0</td>\n",
              "      <td>cnn student news record the cnn special invest...</td>\n",
              "      <td>0</td>\n",
              "    </tr>\n",
              "    <tr>\n",
              "      <th>1</th>\n",
              "      <td>0</td>\n",
              "      <td>1</td>\n",
              "      <td>program overview</td>\n",
              "      <td>0</td>\n",
              "    </tr>\n",
              "    <tr>\n",
              "      <th>2</th>\n",
              "      <td>0</td>\n",
              "      <td>2</td>\n",
              "      <td>for years sue rubin says she was her own worst...</td>\n",
              "      <td>0</td>\n",
              "    </tr>\n",
              "    <tr>\n",
              "      <th>3</th>\n",
              "      <td>0</td>\n",
              "      <td>3</td>\n",
              "      <td>grade levels college</td>\n",
              "      <td>0</td>\n",
              "    </tr>\n",
              "    <tr>\n",
              "      <th>4</th>\n",
              "      <td>0</td>\n",
              "      <td>4</td>\n",
              "      <td>subject areas health social studies technology...</td>\n",
              "      <td>0</td>\n",
              "    </tr>\n",
              "  </tbody>\n",
              "</table>\n",
              "</div>"
            ],
            "text/plain": [
              "   story_id  ...  label_sent\n",
              "0         0  ...           0\n",
              "1         0  ...           0\n",
              "2         0  ...           0\n",
              "3         0  ...           0\n",
              "4         0  ...           0\n",
              "\n",
              "[5 rows x 4 columns]"
            ]
          },
          "metadata": {
            "tags": []
          },
          "execution_count": 20
        }
      ]
    },
    {
      "cell_type": "markdown",
      "metadata": {
        "id": "nMhPXDJ4gbqw"
      },
      "source": [
        "###**Storing the dataset**"
      ]
    },
    {
      "cell_type": "code",
      "metadata": {
        "trusted": true,
        "id": "AwNnC3M83sOJ"
      },
      "source": [
        "# serialize\n",
        "df_story_summary.to_pickle('dataframe_extractive.pkl')"
      ],
      "execution_count": 22,
      "outputs": []
    }
  ]
}